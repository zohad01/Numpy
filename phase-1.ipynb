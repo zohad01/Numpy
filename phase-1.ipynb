{
 "cells": [
  {
   "cell_type": "markdown",
   "id": "c735911a",
   "metadata": {},
   "source": [
    "# Numpy Preparation"
   ]
  },
  {
   "cell_type": "code",
   "execution_count": 1,
   "id": "e076fa2a",
   "metadata": {},
   "outputs": [
    {
     "name": "stdout",
     "output_type": "stream",
     "text": [
      "Hello\n"
     ]
    }
   ],
   "source": [
    "print(\"Hello\")"
   ]
  },
  {
   "cell_type": "code",
   "execution_count": 2,
   "id": "a0f44e1f",
   "metadata": {},
   "outputs": [],
   "source": [
    "import numpy as np"
   ]
  },
  {
   "cell_type": "markdown",
   "id": "8178c855",
   "metadata": {},
   "source": [
    "## Creating numpy arrays"
   ]
  },
  {
   "cell_type": "code",
   "execution_count": 3,
   "id": "066607a7",
   "metadata": {},
   "outputs": [
    {
     "name": "stdout",
     "output_type": "stream",
     "text": [
      "1d Array:  [1 2 3]\n",
      "2d Array:  [[1 2 3]\n",
      " [4 5 6]]\n"
     ]
    }
   ],
   "source": [
    "arr_1d = np.array([1,2,3])\n",
    "print(\"1d Array: \",arr_1d)\n",
    "arr_2d = np.array([[1,2,3],[4,5,6]])\n",
    "print(\"2d Array: \",arr_2d)"
   ]
  },
  {
   "cell_type": "markdown",
   "id": "8e572e78",
   "metadata": {},
   "source": [
    "### List VS numpy arrays"
   ]
  },
  {
   "cell_type": "code",
   "execution_count": 6,
   "id": "39ab6d21",
   "metadata": {},
   "outputs": [
    {
     "name": "stdout",
     "output_type": "stream",
     "text": [
      "Multiplication of python list:  [1, 2, 3, 1, 2, 3]\n",
      "Multiplication of numpy array:  [2 4 6]\n",
      "\n",
      " Time taken by list:  0.006894826889038086\n",
      "\n",
      " Time taken by array:  0.005723714828491211\n"
     ]
    }
   ],
   "source": [
    "py_list = [1,2,3]\n",
    "print(\"Multiplication of python list: \",py_list * 2)\n",
    "numpy_arr = np.array([1,2,3])\n",
    "print(\"Multiplication of numpy array: \",numpy_arr * 2)\n",
    "\n",
    "import time\n",
    "start = time.time()\n",
    "py_list = [i*2 for i in range(100000)]\n",
    "print(\"\\n Time taken by list: \",time.time() - start)\n",
    "\n",
    "start = time.time()\n",
    "numpy_arr = np.arange(100000) * 2\n",
    "print(\"\\n Time taken by array: \",time.time() - start)"
   ]
  },
  {
   "cell_type": "markdown",
   "id": "d40ba23b",
   "metadata": {},
   "source": [
    "### Creating numpy arrays from scratch"
   ]
  },
  {
   "cell_type": "code",
   "execution_count": 3,
   "id": "8c7be978",
   "metadata": {},
   "outputs": [
    {
     "name": "stdout",
     "output_type": "stream",
     "text": [
      "Zero Array: \n",
      " [[0. 0. 0.]\n",
      " [0. 0. 0.]]\n",
      "One Array: \n",
      " [[1. 1. 1.]\n",
      " [1. 1. 1.]]\n",
      "Full Array: \n",
      " [[7 7]\n",
      " [7 7]]\n",
      "Random Array: \n",
      " [[0.59897369 0.31709209 0.40110848]\n",
      " [0.04722929 0.55678065 0.4128134 ]]\n",
      "Sequence Array: \n",
      " [0 2 4 6 8]\n"
     ]
    }
   ],
   "source": [
    "zeros = np.zeros((2,3))\n",
    "print(\"Zero Array: \\n\",zeros)\n",
    "\n",
    "ones = np.ones((2,3))\n",
    "print(\"One Array: \\n\",ones)\n",
    "\n",
    "full = np.full((2,2),7)\n",
    "print(\"Full Array: \\n\",full)\n",
    "\n",
    "random = np.random.random((2,3))\n",
    "print(\"Random Array: \\n\",random)\n",
    "\n",
    "sequence = np.arange(0,10,2)\n",
    "print(\"Sequence Array: \\n\",sequence)"
   ]
  },
  {
   "cell_type": "markdown",
   "id": "5e17c0fc",
   "metadata": {},
   "source": [
    "### Vector, Matrix and Tensor"
   ]
  },
  {
   "cell_type": "code",
   "execution_count": 5,
   "id": "19e69dec",
   "metadata": {},
   "outputs": [
    {
     "name": "stdout",
     "output_type": "stream",
     "text": [
      "Vector:  [1 3 4]\n",
      "Matrix:  [[1 2 3]\n",
      " [4 5 6]]\n",
      "Tensor:  [[[ 1  2  3]\n",
      "  [ 4  5  6]]\n",
      "\n",
      " [[ 7  8  9]\n",
      "  [10 11 12]]]\n"
     ]
    }
   ],
   "source": [
    "vector = np.array([1,3,4])\n",
    "print(\"Vector: \", vector)\n",
    "\n",
    "matrix = np.array([[1,2,3],[4,5,6]])\n",
    "print(\"Matrix: \",matrix)\n",
    "\n",
    "tensor = np.array([[[1,2,3],[4,5,6]],[[7,8,9],[10,11,12]]])  #Multi-dimensional Arrays\n",
    "print(\"Tensor: \",tensor)"
   ]
  },
  {
   "cell_type": "markdown",
   "id": "d9759751",
   "metadata": {},
   "source": [
    "### Array Properties"
   ]
  },
  {
   "cell_type": "code",
   "execution_count": 7,
   "id": "4650e50b",
   "metadata": {},
   "outputs": [
    {
     "name": "stdout",
     "output_type": "stream",
     "text": [
      "Shape  (2, 3)\n",
      "Dimension  2\n",
      "DType  int64\n"
     ]
    }
   ],
   "source": [
    "arr = np.array([[1,2,3],\n",
    "                [4,5,True]]) # Not ideal presentation-Must haave similar data but it does no give error\n",
    "print(\"Shape \", arr.shape)\n",
    "print(\"Dimension \",arr.ndim)\n",
    "print(\"DType \", arr.dtype)"
   ]
  },
  {
   "cell_type": "markdown",
   "id": "9c339d7a",
   "metadata": {},
   "source": [
    "### Array Reshaping"
   ]
  },
  {
   "cell_type": "code",
   "execution_count": 12,
   "id": "0f3ae3d3",
   "metadata": {},
   "outputs": [
    {
     "name": "stdout",
     "output_type": "stream",
     "text": [
      "Original array  [ 0  1  2  3  4  5  6  7  8  9 10 11]\n",
      "\n",
      " Reshaped array  [[ 0  1  2  3]\n",
      " [ 4  5  6  7]\n",
      " [ 8  9 10 11]]\n",
      "\n",
      " Flattened array  [ 0  1  2  3  4  5  6  7  8  9 10 11]\n",
      "\n",
      "Raveled Array:  [ 0  1  2  3  4  5  6  7  8  9 10 11]\n",
      "\n",
      "Transposed array:  [[ 0  4  8]\n",
      " [ 1  5  9]\n",
      " [ 2  6 10]\n",
      " [ 3  7 11]]\n"
     ]
    }
   ],
   "source": [
    "arr = np.arange(12)\n",
    "print(\"Original array \", arr)\n",
    "\n",
    "reshaped = arr.reshape((3,4))\n",
    "print(\"\\n Reshaped array \",reshaped)\n",
    "\n",
    "flattened = reshaped.flatten()\n",
    "print(\"\\n Flattened array \", flattened)\n",
    "\n",
    "# Ravel (returns view, instead of copy)\n",
    "raveled = reshaped.ravel()\n",
    "print(\"\\nRaveled Array: \",raveled)\n",
    "\n",
    "# Transpose\n",
    "transpose = reshaped.T\n",
    "print(\"\\nTransposed array: \",transpose)"
   ]
  }
 ],
 "metadata": {
  "kernelspec": {
   "display_name": "venv",
   "language": "python",
   "name": "python3"
  },
  "language_info": {
   "codemirror_mode": {
    "name": "ipython",
    "version": 3
   },
   "file_extension": ".py",
   "mimetype": "text/x-python",
   "name": "python",
   "nbconvert_exporter": "python",
   "pygments_lexer": "ipython3",
   "version": "3.11.6"
  }
 },
 "nbformat": 4,
 "nbformat_minor": 5
}
