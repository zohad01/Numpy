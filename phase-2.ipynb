{
 "cells": [
  {
   "cell_type": "markdown",
   "id": "cfb085d8",
   "metadata": {},
   "source": [
    "## Numpy Array Operations"
   ]
  },
  {
   "cell_type": "code",
   "execution_count": 3,
   "id": "400f90f0",
   "metadata": {},
   "outputs": [],
   "source": [
    "import numpy as np"
   ]
  },
  {
   "cell_type": "code",
   "execution_count": 4,
   "id": "8388731a",
   "metadata": {},
   "outputs": [
    {
     "name": "stdout",
     "output_type": "stream",
     "text": [
      "Basis Slicing [3 4 5 6 7]\n",
      "With Step [2 4 6 8]\n",
      "Negative indexing 8\n"
     ]
    }
   ],
   "source": [
    "arr = np.array([1,2,3,4,5,6,7,8,9,10])\n",
    "print(\"Basis Slicing\", arr[2:7])\n",
    "print(\"With Step\",arr[1:8:2])\n",
    "print(\"Negative indexing\",arr[-3])"
   ]
  },
  {
   "cell_type": "code",
   "execution_count": 5,
   "id": "a652644a",
   "metadata": {},
   "outputs": [
    {
     "name": "stdout",
     "output_type": "stream",
     "text": [
      "Specific Element 6\n",
      "Entire Row [4 5 6]\n",
      "Entire Column [2 5 8]\n"
     ]
    }
   ],
   "source": [
    "arr_2d = np.array([[1,2,3],\n",
    "                  [4,5,6],\n",
    "                  [7,8,9]])\n",
    "print(\"Specific Element\",arr_2d[1, 2])\n",
    "print(\"Entire Row\",arr_2d[1])\n",
    "print(\"Entire Column\",arr_2d[:,1])"
   ]
  },
  {
   "cell_type": "markdown",
   "id": "31864716",
   "metadata": {},
   "source": [
    "## Sorting"
   ]
  },
  {
   "cell_type": "code",
   "execution_count": 6,
   "id": "ff21b251",
   "metadata": {},
   "outputs": [
    {
     "name": "stdout",
     "output_type": "stream",
     "text": [
      "Sorted Array [1 2 3 4 5 7]\n",
      "Sorted 2d Array by column [[1 1]\n",
      " [2 2]\n",
      " [3 4]]\n",
      "Sorted 2d Array by row [[1 3]\n",
      " [1 2]\n",
      " [2 4]]\n"
     ]
    }
   ],
   "source": [
    "unsorted = np.array([1,4,2,3,5,7])\n",
    "print(\"Sorted Array\", np.sort(unsorted))\n",
    "\n",
    "arr_2d_unsorted = np.array([[3,1],\n",
    "                           [1,2],\n",
    "                           [2,4]])\n",
    "print(\"Sorted 2d Array by column\",np.sort(arr_2d_unsorted, axis=0)) #Mostly used\n",
    "\n",
    "print(\"Sorted 2d Array by row\",np.sort(arr_2d_unsorted, axis=1))"
   ]
  },
  {
   "cell_type": "markdown",
   "id": "fb8a3d5d",
   "metadata": {},
   "source": [
    "## Filter"
   ]
  },
  {
   "cell_type": "code",
   "execution_count": 7,
   "id": "da74ec59",
   "metadata": {},
   "outputs": [
    {
     "name": "stdout",
     "output_type": "stream",
     "text": [
      "Even numbers [ 2  4  6  8 10]\n"
     ]
    }
   ],
   "source": [
    "numbers = np.array([1,2,3,4,5,6,7,8,9,10])\n",
    "even_numbers = numbers[numbers % 2 == 0] # Expressions --> There is some output(Complete Logic)\n",
    "print(\"Even numbers\",even_numbers)"
   ]
  },
  {
   "cell_type": "markdown",
   "id": "596f2378",
   "metadata": {},
   "source": [
    "### Filter with mask"
   ]
  },
  {
   "cell_type": "code",
   "execution_count": 8,
   "id": "d228cb12",
   "metadata": {},
   "outputs": [
    {
     "name": "stdout",
     "output_type": "stream",
     "text": [
      "Numbers greater than 5 [ 6  7  8  9 10]\n"
     ]
    }
   ],
   "source": [
    "mask = numbers > 5\n",
    "print(\"Numbers greater than 5\", numbers[mask])"
   ]
  },
  {
   "cell_type": "markdown",
   "id": "5d0ca524",
   "metadata": {},
   "source": [
    "## Fancy indexin vs np.where()"
   ]
  },
  {
   "cell_type": "code",
   "execution_count": 12,
   "id": "8ea4f5a6",
   "metadata": {},
   "outputs": [
    {
     "name": "stdout",
     "output_type": "stream",
     "text": [
      "[1 3 5]\n",
      "(array([5, 6, 7, 8, 9]),)\n",
      "NP where [ 6  7  8  9 10]\n"
     ]
    }
   ],
   "source": [
    "indices = [0, 2, 4]\n",
    "print(numbers[indices])\n",
    "where_result = np.where(numbers > 5)\n",
    "print(where_result)\n",
    "print(\"NP where\", numbers[where_result])"
   ]
  },
  {
   "cell_type": "code",
   "execution_count": null,
   "id": "c49d39fb",
   "metadata": {},
   "outputs": [
    {
     "name": "stdout",
     "output_type": "stream",
     "text": [
      "['false' 'false' 'false' 'false' 'false' 'true' 'true' 'true' 'true'\n",
      " 'true']\n"
     ]
    }
   ],
   "source": [
    "condition_array = np.where(numbers > 5, \"true\", \"false\") # x and y value(numbers *4 and numbers) (condition, true, false)\n",
    "print(condition_array)"
   ]
  },
  {
   "cell_type": "code",
   "execution_count": null,
   "id": "f55a05f5",
   "metadata": {},
   "outputs": [],
   "source": [
    "# if(numbers>5):\n",
    "#     numbers*4\n",
    "# else:\n",
    "#     numbers"
   ]
  },
  {
   "cell_type": "markdown",
   "id": "5717f40c",
   "metadata": {},
   "source": [
    "### Adding and Removing data"
   ]
  },
  {
   "cell_type": "code",
   "execution_count": 20,
   "id": "4bbda1d2",
   "metadata": {},
   "outputs": [
    {
     "name": "stdout",
     "output_type": "stream",
     "text": [
      "[1 2 3 4 5 6]\n"
     ]
    }
   ],
   "source": [
    "arr1 = np.array([1,2,3])\n",
    "arr2 = np.array([4,5,6])\n",
    "# combined = arr1 + arr2  # Will add values\n",
    "combined = np.concatenate((arr1,arr2))\n",
    "print(combined)"
   ]
  },
  {
   "cell_type": "markdown",
   "id": "4a16cc6c",
   "metadata": {},
   "source": [
    "### Array compatibility"
   ]
  },
  {
   "cell_type": "code",
   "execution_count": 22,
   "id": "6f76e80a",
   "metadata": {},
   "outputs": [
    {
     "name": "stdout",
     "output_type": "stream",
     "text": [
      "Conpatibility shapes False\n"
     ]
    }
   ],
   "source": [
    "a = np.array([1,2,3])\n",
    "b = np.array([4,5,6,7])\n",
    "c = np.array([7,8,9])\n",
    "\n",
    "print(\"Conpatibility shapes\",a.shape == b.shape)"
   ]
  },
  {
   "cell_type": "code",
   "execution_count": 24,
   "id": "38d70b4d",
   "metadata": {},
   "outputs": [
    {
     "name": "stdout",
     "output_type": "stream",
     "text": [
      "[[1 2]\n",
      " [3 4]]\n",
      "[[1 2]\n",
      " [3 4]\n",
      " [5 6]]\n",
      "[[1 2 4]\n",
      " [3 4 5]]\n"
     ]
    }
   ],
   "source": [
    "original = np.array([[1,2],[3,4]])\n",
    "new_row = np.array([5,6])\n",
    "with_new_row = np.vstack((original, new_row)) # Adds new row(vstack)\n",
    "new_col = np.array([[4],[5]])\n",
    "with_new_column = np.hstack((original,new_col))\n",
    "print(original)\n",
    "print(with_new_row)\n",
    "print(with_new_column)"
   ]
  },
  {
   "cell_type": "code",
   "execution_count": null,
   "id": "199d6f0f",
   "metadata": {},
   "outputs": [
    {
     "name": "stdout",
     "output_type": "stream",
     "text": [
      "Array after deletion:  [1 2 4 5]\n"
     ]
    }
   ],
   "source": [
    "arr = np.array([1,2,3,4,5])\n",
    "deleted = np.delete(arr,2)\n",
    "print(\"Array after deletion: \",deleted) # it returns array after deletion not element"
   ]
  }
 ],
 "metadata": {
  "kernelspec": {
   "display_name": "venv",
   "language": "python",
   "name": "python3"
  },
  "language_info": {
   "codemirror_mode": {
    "name": "ipython",
    "version": 3
   },
   "file_extension": ".py",
   "mimetype": "text/x-python",
   "name": "python",
   "nbconvert_exporter": "python",
   "pygments_lexer": "ipython3",
   "version": "3.11.6"
  }
 },
 "nbformat": 4,
 "nbformat_minor": 5
}
